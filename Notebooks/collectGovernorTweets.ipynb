{
 "cells": [
  {
   "cell_type": "code",
   "execution_count": 5,
   "metadata": {},
   "outputs": [],
   "source": [
    "from time import sleep\n",
    "from pathlib import Path\n",
    "import pandas as pd\n",
    "import tweepy  \n",
    "import csv\n",
    "import os\n",
    "import json\n",
    "import datetime"
   ]
  },
  {
   "cell_type": "code",
   "execution_count": 6,
   "metadata": {},
   "outputs": [],
   "source": [
    "# Credentials for API\n",
    "consumer_key = \"YOUR KEY\"\n",
    "consumer_secret = \"YOUR TWITTER API SECRET\"\n",
    "access_token = \"ACCESS TOEKN GOES HERE\"\n",
    "access_token_secret = \"YOUR TWITTER API SECRET\"\n",
    "\n",
    "auth = tweepy.OAuthHandler(consumer_key, consumer_secret)  \n",
    "auth.set_access_token(access_token, access_token_secret)  \n",
    "api = tweepy.API(auth)"
   ]
  },
  {
   "cell_type": "code",
   "execution_count": 7,
   "metadata": {},
   "outputs": [],
   "source": [
    "# Function to perform collection of tweets from API\n",
    "def tweetCollector(twitter_handle, twitter_ids_filename):\n",
    "    tweets = []\n",
    "    startDate = datetime.datetime(2020, 1, 21, 0, 0, 0)\n",
    "    endDate =   datetime.datetime(2020, 4, 19, 0, 0, 0)\n",
    "    try:  \n",
    "        for tweet in tweepy.Cursor(api.user_timeline, screen_name=twitter_handle, exclude_replies=True).items(1000): \n",
    "            if tweet.created_at < endDate and tweet.created_at > startDate:\n",
    "                tweet_text = tweet.text  \n",
    "                time = tweet.created_at  \n",
    "                tweeter = tweet.user.screen_name \n",
    "                t_id = tweet.id\n",
    "                tweet_dict = {\"tweet_text\" : tweet_text.strip(), \"timestamp\" : str(time), \"id\": tweet.id, \"user\" :tweeter}  \n",
    "                tweets.append(tweet_dict)\n",
    "    except tweepy.TweepError:  \n",
    "        sleep(60)\n",
    "\n",
    "    with open(twitter_ids_filename, 'w+') as outfile:\n",
    "        json.dump(tweets, outfile)\n",
    "    #print(tweets) \n",
    "    #print('total tweet count: {}'.format(len(tweets)))\n",
    "    #print('all done here')\n",
    "    return(len(tweets))"
   ]
  },
  {
   "cell_type": "code",
   "execution_count": 8,
   "metadata": {},
   "outputs": [
    {
     "name": "stdout",
     "output_type": "stream",
     "text": [
      "Tweets from governor (D) of California collected.\n",
      "Tweets from governor (D) of Colorado collected.\n",
      "Tweets from governor (D) of Connecticut collected.\n",
      "Tweets from governor (D) of Delaware collected.\n",
      "Tweets from governor (D) of Hawaii collected.\n",
      "Tweets from governor (D) of Illinois collected.\n",
      "Tweets from governor (D) of Kansas collected.\n",
      "Tweets from governor (D) of Kentucky collected.\n",
      "Tweets from governor (D) of Louisiana collected.\n",
      "Tweets from governor (D) of Michigan collected.\n",
      "Tweets from governor (D) of Minnesota collected.\n",
      "Tweets from governor (D) of Montana collected.\n",
      "Tweets from governor (D) of Nevada collected.\n",
      "Tweets from governor (D) of New Jersey collected.\n",
      "Tweets from governor (D) of New Mexico collected.\n",
      "Tweets from governor (D) of New York collected.\n",
      "Tweets from governor (D) of North Carolina collected.\n",
      "Tweets from governor (D) of Oregon collected.\n",
      "Tweets from governor (D) of Pennsylvania collected.\n",
      "Tweets from governor (D) of Rhode Island collected.\n",
      "Tweets from governor (D) of Virginia collected.\n",
      "Tweets from governor (D) of Washington collected.\n",
      "Tweets from governor (D) of West Virginia collected.\n",
      "Tweets from governor (D) of Wisconsin collected.\n"
     ]
    }
   ],
   "source": [
    "#Collect Tweets from Democrat Governers\n",
    "directory_path = \"../Dataset/tweets/democrat/\"\n",
    "Path(directory_path).mkdir(parents=True, exist_ok=True)\n",
    "dem_df = pd.read_csv(\"../Dataset/governorList/final_democrat.csv\")\n",
    "dem_tweets = {}\n",
    "for ind in dem_df.index: \n",
    "    file_path = directory_path + str(ind) + \".json\"\n",
    "    num_tweets = tweetCollector(dem_df['twitter_handle'][ind], file_path)\n",
    "    dem_tweets.update({dem_df['twitter_handle'][ind] : num_tweets})\n",
    "    print(\"Tweets from governor (D) of {} collected.\".format(dem_df['state_name'][ind]))"
   ]
  },
  {
   "cell_type": "code",
   "execution_count": 9,
   "metadata": {
    "scrolled": true
   },
   "outputs": [
    {
     "name": "stdout",
     "output_type": "stream",
     "text": [
      "Tweets from governor (R) of Alabama collected.\n",
      "Tweets from governor (R) of Alaska collected.\n",
      "Tweets from governor (R) of Arizona collected.\n",
      "Tweets from governor (R) of Arkansas collected.\n",
      "Tweets from governor (R) of Florida collected.\n",
      "Tweets from governor (R) of Georgia collected.\n",
      "Tweets from governor (R) of Idaho collected.\n",
      "Tweets from governor (R) of Indiana collected.\n",
      "Tweets from governor (R) of Iowa collected.\n",
      "Tweets from governor (R) of Maine collected.\n",
      "Tweets from governor (R) of Maryland collected.\n",
      "Tweets from governor (R) of Massachusetts collected.\n",
      "Tweets from governor (R) of Mississippi collected.\n",
      "Tweets from governor (R) of Missouri collected.\n",
      "Tweets from governor (R) of Nebraska collected.\n",
      "Tweets from governor (R) of New Hampshire collected.\n",
      "Tweets from governor (R) of North Dakota collected.\n",
      "Tweets from governor (R) of Ohio collected.\n",
      "Tweets from governor (R) of Oklahoma collected.\n",
      "Tweets from governor (R) of South Carolina collected.\n",
      "Tweets from governor (R) of South Dakota collected.\n",
      "Tweets from governor (R) of Tennessee collected.\n",
      "Tweets from governor (R) of Texas collected.\n",
      "Tweets from governor (R) of Utah collected.\n",
      "Tweets from governor (R) of Vermont collected.\n",
      "Tweets from governor (R) of Wyoming collected.\n"
     ]
    }
   ],
   "source": [
    "#Collect Tweets from Republican Governers\n",
    "directory_path = \"../Dataset/tweets/republican/\"\n",
    "Path(directory_path).mkdir(parents=True, exist_ok=True)\n",
    "rep_df = pd.read_csv(\"../Dataset/governorList/final_republican.csv\")\n",
    "rep_tweets = {}\n",
    "for ind in rep_df.index: \n",
    "    file_path = directory_path + str(ind) + \".json\"\n",
    "    num_tweets = tweetCollector(rep_df['twitter_handle'][ind], file_path)\n",
    "    rep_tweets.update({rep_df['twitter_handle'][ind] : num_tweets})\n",
    "    print(\"Tweets from governor (R) of {} collected.\".format(rep_df['state_name'][ind]))"
   ]
  },
  {
   "cell_type": "code",
   "execution_count": 10,
   "metadata": {},
   "outputs": [
    {
     "name": "stdout",
     "output_type": "stream",
     "text": [
      "Breakdown of tweets from Democrat Governors:\n",
      "{'GavinNewsom': 427,\n",
      "'jaredpolis': 155,\n",
      "'GovNedLamont': 919,\n",
      "'johncarneyde': 262,\n",
      "'GovHawaii': 466,\n",
      "'jbpritzker': 15,\n",
      "'GovLauraKelly': 482,\n",
      "'AndyBeshearKY': 132,\n",
      "'louisianagov': 984,\n",
      "'gretchenwhitmer': 44,\n",
      "'GovTimWalz': 245,\n",
      "'GovernorBullock': 111,\n",
      "'stevesisolak': 425,\n",
      "'philmurphynj': 14,\n",
      "'michelle4nm': 166,\n",
      "'nygovcuomo': 676,\n",
      "'NC_Governor': 511,\n",
      "'OregonGovBrown': 0,\n",
      "'governortomwolf': 0,\n",
      "'ginaraimondo': 0,\n",
      "'ralphnortham': 0,\n",
      "'jayinslee': 0,\n",
      "'WVGovernor': 0,\n",
      "'tony4wi': 0,}\n",
      "\n",
      "Breakdown of tweets from Republican Governors:\n",
      "{'GovernorKayIvey': 0,\n",
      "'GovDunleavy': 148,\n",
      "'dougducey': 1000,\n",
      "'AsaHutchinson': 236,\n",
      "'rondesantisfl': 49,\n",
      "'GovKemp': 436,\n",
      "'GovernorLittle': 305,\n",
      "'GovHolcomb': 310,\n",
      "'kimreynoldsia': 110,\n",
      "'GovJanetMills': 97,\n",
      "'LarryHogan': 322,\n",
      "' massgovernor': 255,\n",
      "'tatereeves': 353,\n",
      "'mikeparson': 220,\n",
      "'GovRicketts': 970,\n",
      "'GovChrisSununu': 699,\n",
      "'DougBurgum': 163,\n",
      "'mikedewine': 84,\n",
      "'GovStitt': 0,\n",
      "'henrymcmaster': 0,\n",
      "'kristinoem': 0,\n",
      "'GovBillLee': 0,\n",
      "'GregAbbott_TX': 0,\n",
      "'GovHerbert': 0,\n",
      "'GovPhilScott': 0,\n",
      "'GovernorGordon': 0,}\n",
      "\n"
     ]
    }
   ],
   "source": [
    "#Analysis on the number of tweets collected\n",
    "print(\"Breakdown of tweets from Democrat Governors:\\n{\" + \"\\n\".join(\"{!r}: {!r},\".format(k, v) for k, v in dem_tweets.items()) + \"}\\n\")\n",
    "print(\"Breakdown of tweets from Republican Governors:\\n{\" + \"\\n\".join(\"{!r}: {!r},\".format(k, v) for k, v in rep_tweets.items()) + \"}\\n\")\n"
   ]
  },
  {
   "cell_type": "code",
   "execution_count": null,
   "metadata": {},
   "outputs": [],
   "source": []
  }
 ],
 "metadata": {
  "kernelspec": {
   "display_name": "Python 3",
   "language": "python",
   "name": "python3"
  },
  "language_info": {
   "codemirror_mode": {
    "name": "ipython",
    "version": 3
   },
   "file_extension": ".py",
   "mimetype": "text/x-python",
   "name": "python",
   "nbconvert_exporter": "python",
   "pygments_lexer": "ipython3",
   "version": "3.7.4"
  }
 },
 "nbformat": 4,
 "nbformat_minor": 2
}
