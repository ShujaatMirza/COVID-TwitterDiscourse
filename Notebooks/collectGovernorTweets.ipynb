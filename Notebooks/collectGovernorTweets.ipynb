{
 "cells": [
  {
   "cell_type": "code",
   "execution_count": 256,
   "metadata": {},
   "outputs": [],
   "source": [
    "from time import sleep\n",
    "from pathlib import Path\n",
    "import pandas as pd\n",
    "import tweepy  \n",
    "import csv\n",
    "import os\n",
    "import json\n",
    "import datetime"
   ]
  },
  {
   "cell_type": "code",
   "execution_count": 257,
   "metadata": {},
   "outputs": [],
   "source": [
    "\n",
    "\n",
    "auth = tweepy.OAuthHandler(consumer_key, consumer_secret)  \n",
    "auth.set_access_token(access_token, access_token_secret)  \n",
    "api = tweepy.API(auth)"
   ]
  },
  {
   "cell_type": "code",
   "execution_count": 258,
   "metadata": {},
   "outputs": [],
   "source": [
    "# Function to perform collection of tweets from API\n",
    "def tweetCollector(twitter_handle, twitter_ids_filename):\n",
    "    tweets = []\n",
    "    startDate = datetime.datetime(2020, 1, 21, 0, 0, 0)\n",
    "    endDate =   datetime.datetime(2020, 4, 19, 0, 0, 0)\n",
    "    try:  \n",
    "        for tweet in tweepy.Cursor(api.user_timeline, screen_name=twitter_handle, exclude_replies=True).items(1000): \n",
    "            if tweet.created_at < endDate and tweet.created_at > startDate:\n",
    "                tweet_text = tweet.text  \n",
    "                time = tweet.created_at  \n",
    "                tweeter = tweet.user.screen_name \n",
    "                t_id = tweet.id\n",
    "                tweet_dict = {\"tweet_text\" : tweet_text.strip(), \"timestamp\" : str(time), \"id\": tweet.id, \"user\" :tweeter}  \n",
    "                tweets.append(tweet_dict)\n",
    "    except tweepy.TweepError:  \n",
    "        sleep(60)\n",
    "\n",
    "    with open(twitter_ids_filename, 'w+') as outfile:\n",
    "        json.dump(tweets, outfile)\n",
    "    #print(tweets) \n",
    "    #print('total tweet count: {}'.format(len(tweets)))\n",
    "    #print('all done here')\n",
    "    return(len(tweets))"
   ]
  },
  {
   "cell_type": "code",
   "execution_count": null,
   "metadata": {},
   "outputs": [
    {
     "name": "stdout",
     "output_type": "stream",
     "text": [
      "Tweets from governor (D) of California collected.\n",
      "Tweets from governor (D) of Colorado collected.\n",
      "Tweets from governor (D) of Connecticut collected.\n",
      "Tweets from governor (D) of Delaware collected.\n",
      "Tweets from governor (D) of Hawaii collected.\n",
      "Tweets from governor (D) of Illinois collected.\n",
      "Tweets from governor (D) of Kansas collected.\n",
      "Tweets from governor (D) of Kentucky collected.\n",
      "Tweets from governor (D) of Louisiana collected.\n",
      "Tweets from governor (D) of Michigan collected.\n"
     ]
    }
   ],
   "source": [
    "#Collect Tweets from Democrat Governers\n",
    "directory_path = \"data/tweets/democrat/\"\n",
    "Path(directory_path).mkdir(parents=True, exist_ok=True)\n",
    "dem_df = pd.read_csv(\"data/governorList/final_democrat.csv\")\n",
    "dem_tweets = {}\n",
    "for ind in dem_df.index: \n",
    "    file_path = directory_path + str(ind) + \".json\"\n",
    "    num_tweets = tweetCollector(dem_df['twitter_handle'][ind], file_path)\n",
    "    dem_tweets.update({dem_df['twitter_handle'][ind] : num_tweets})\n",
    "    print(\"Tweets from governor (D) of {} collected.\".format(dem_df['state_name'][ind]))"
   ]
  },
  {
   "cell_type": "code",
   "execution_count": null,
   "metadata": {
    "scrolled": true
   },
   "outputs": [],
   "source": [
    "#Collect Tweets from Republican Governers\n",
    "directory_path = \"data/tweets/republican/\"\n",
    "Path(directory_path).mkdir(parents=True, exist_ok=True)\n",
    "rep_df = pd.read_csv(\"data/governorList/final_republican.csv\")\n",
    "rep_tweets = {}\n",
    "for ind in rep_df.index: \n",
    "    file_path = directory_path + str(ind) + \".json\"\n",
    "    num_tweets = tweetCollector(rep_df['twitter_handle'][ind], file_path)\n",
    "    rep_tweets.update({rep_df['twitter_handle'][ind] : num_tweets})\n",
    "    print(\"Tweets from governor (R) of {} collected.\".format(rep_df['state_name'][ind]))"
   ]
  },
  {
   "cell_type": "code",
   "execution_count": null,
   "metadata": {},
   "outputs": [],
   "source": [
    "#Analysis on the number of tweets collected\n",
    "print(\"Breakdown of tweets from Democrat Governors:\\n{\" + \"\\n\".join(\"{!r}: {!r},\".format(k, v) for k, v in dem_tweets.items()) + \"}\\n\")\n",
    "print(\"Breakdown of tweets from Republican Governors:\\n{\" + \"\\n\".join(\"{!r}: {!r},\".format(k, v) for k, v in rep_tweets.items()) + \"}\\n\")\n"
   ]
  },
  {
   "cell_type": "code",
   "execution_count": null,
   "metadata": {},
   "outputs": [],
   "source": []
  }
 ],
 "metadata": {
  "kernelspec": {
   "display_name": "Python 3",
   "language": "python",
   "name": "python3"
  },
  "language_info": {
   "codemirror_mode": {
    "name": "ipython",
    "version": 3
   },
   "file_extension": ".py",
   "mimetype": "text/x-python",
   "name": "python",
   "nbconvert_exporter": "python",
   "pygments_lexer": "ipython3",
   "version": "3.7.4"
  }
 },
 "nbformat": 4,
 "nbformat_minor": 2
}
